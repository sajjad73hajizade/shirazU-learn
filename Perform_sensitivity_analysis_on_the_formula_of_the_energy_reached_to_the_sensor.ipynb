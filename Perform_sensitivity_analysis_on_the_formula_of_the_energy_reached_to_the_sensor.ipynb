{
  "nbformat": 4,
  "nbformat_minor": 0,
  "metadata": {
    "colab": {
      "provenance": [],
      "authorship_tag": "ABX9TyOp7LnD6pAOLTVCUhuvM7AP",
      "include_colab_link": true
    },
    "kernelspec": {
      "name": "python3",
      "display_name": "Python 3"
    },
    "language_info": {
      "name": "python"
    }
  },
  "cells": [
    {
      "cell_type": "markdown",
      "metadata": {
        "id": "view-in-github",
        "colab_type": "text"
      },
      "source": [
        "<a href=\"https://colab.research.google.com/github/sajjad73hajizade/shirazU-learn/blob/main/Perform_sensitivity_analysis_on_the_formula_of_the_energy_reached_to_the_sensor.ipynb\" target=\"_parent\"><img src=\"https://colab.research.google.com/assets/colab-badge.svg\" alt=\"Open In Colab\"/></a>"
      ]
    },
    {
      "cell_type": "code",
      "source": [
        "pip install pysolar"
      ],
      "metadata": {
        "id": "2waj4TbX10cz"
      },
      "execution_count": null,
      "outputs": []
    },
    {
      "cell_type": "code",
      "execution_count": 3,
      "metadata": {
        "id": "5TqFSCmj1jX-"
      },
      "outputs": [],
      "source": [
        "from pysolar.solar import *\n",
        "import datetime\n",
        "import numpy as np\n",
        "import scipy.integrate as spi\n",
        "import matplotlib.pyplot as plt"
      ]
    },
    {
      "cell_type": "code",
      "source": [
        "#Fd or Gcd\n",
        "latitude = 27.1889399\n",
        "longitude = 56.337230\n",
        "Height = 1000\n",
        "date = datetime.datetime(2007, 11, 16, 17, 20, 0, 0, tzinfo=datetime.timezone.utc)\n",
        "day_of_year = date.timetuple().tm_yday\n",
        "\n",
        "altitude = get_altitude(latitude, longitude, date)\n",
        "if altitude >= 0:\n",
        "    Zenith_solar = 90 - get_altitude(latitude, longitude, date)\n",
        "else:\n",
        "    Zenith_solar = 90 + get_altitude(latitude, longitude, date)\n",
        "\n",
        "\n",
        "a = 1\n",
        "r0 = 0\n",
        "r1 = 0\n",
        "rk = 0\n",
        "\n",
        "while a < 2:\n",
        "    C_T = input(\"Please insert climate type <Tropical / Mid latitude summer / Subarctic winter / mid latitude Winter> : \")\n",
        "\n",
        "    if C_T == 'T':\n",
        "        a = 3\n",
        "        r0 = 0.95\n",
        "        r1 = 0.98\n",
        "        rk = 1.02\n",
        "\n",
        "    elif C_T == 'M':\n",
        "        a = 3\n",
        "        r0 = 0.97\n",
        "        r1 = 0.99\n",
        "        rk = 1.02\n",
        "\n",
        "    elif C_T == 'S':\n",
        "        a = 3\n",
        "        r0 = 0.99\n",
        "        r1 = 0.99\n",
        "        rk = 1.01\n",
        "\n",
        "    elif C_T == 'W':\n",
        "        a = 3\n",
        "        r0 = 1.03\n",
        "        r1 = 1.01\n",
        "        rk = 1.00\n",
        "\n",
        "    else:\n",
        "        print(\"The entered value is not correct\\nPlease Try again\")\n",
        "        a = 1\n",
        "\n",
        "\n",
        "a0 = r0 * (0.4237 - 0.00821 * (6 - Height)**2)\n",
        "a1 = r1 * (0.5055 + 0.00595 * (6.5 - Height)**2)\n",
        "k = rk * (0.2711 + 0.01858 * (2.5 - Height)**2)\n",
        "b1 = np.cos(Zenith_solar)\n",
        "\n",
        "\n",
        "tb = a0 + a1 * np.exp(-k/b1)\n",
        "tb = np.float64(tb)\n",
        "\n",
        "Gon = 1367 * (1 + 0.033 * np.cos(360*day_of_year/365))\n",
        "Gcb = tb * Gon * np.cos(Zenith_solar)\n",
        "\n",
        "td = 0.271 - 0.294 * tb\n",
        "Gcd = td * Gon * np.cos(Zenith_solar)"
      ],
      "metadata": {
        "colab": {
          "base_uri": "https://localhost:8080/"
        },
        "id": "1o-eW0fM1-C8",
        "outputId": "9dc25130-1e8d-4f12-f4c2-d60cab24011b"
      },
      "execution_count": 4,
      "outputs": [
        {
          "name": "stdout",
          "output_type": "stream",
          "text": [
            "Please insert climate type <Tropical / Mid latitude summer / Subarctic winter / mid latitude Winter> : T\n"
          ]
        }
      ]
    },
    {
      "cell_type": "code",
      "source": [
        "#E for landa1 to landa2 from planks law\n",
        "def E_delta_landa(a, b, temp):\n",
        "    h = 6.626*10**-34\n",
        "    c = 3*10**8\n",
        "    k = 1.38*10**-23\n",
        "\n",
        "    a1 = 2.0 * h * c ** 2\n",
        "\n",
        "    integrand = lambda x : a1 / ((x ** 5) * (np.exp(h * c / (x * k * temp)) - 1.0))\n",
        "    result, error = spi.quad(integrand, a, b)\n",
        "    return result"
      ],
      "metadata": {
        "id": "wU-b5CZQ2X8B"
      },
      "execution_count": 5,
      "outputs": []
    },
    {
      "cell_type": "markdown",
      "source": [
        "\n",
        "Landsat9 : Band5(NIR) > 0.85e-6 to  0.879e-6 \n",
        "\n",
        "Landsat9 : Band6(SWIR) > 1.566e-6 to  1.651e-6\n",
        "\n",
        "Landsat9 : Band10(IR) > 10.6e-6 to  11.19e-6\n"
      ],
      "metadata": {
        "id": "7mL50_i72jBo"
      }
    },
    {
      "cell_type": "code",
      "source": [
        "#Ls and teta\n",
        "#NIR    p=0.5   Tv=0.5  T0=0.5\n",
        "k = 0\n",
        "x_degree = []\n",
        "y_ls_nir = []\n",
        "while k <= 90:\n",
        "    ls = (1 / np.pi) * 0.5 * 0.5 * (E_delta_landa(0.85e-6, 0.879e-6, 5788) * 0.5 * np.cos(np.deg2rad(k)) * (0.879e-6 - 0.85e-6) + Gcd)\n",
        "    x_degree.extend([k])\n",
        "    y_ls_nir.extend([ls])\n",
        "    k = k + 1\n",
        "\n",
        "#SWIR    p=0.5   Tv=0.5  T0=0.5\n",
        "k = 0\n",
        "x_degree1 = []\n",
        "y_ls_nir1 = []\n",
        "while k <= 90:\n",
        "    ls = (1 / np.pi) * 0.5 * 0.5 * (E_delta_landa(1.566e-6, 1.651e-6, 5788) * 0.5 * np.cos(np.deg2rad(k)) * (0.879e-6 - 0.85e-6) + Gcd)\n",
        "    x_degree1.extend([k])\n",
        "    y_ls_nir1.extend([ls])\n",
        "    k = k + 1\n",
        "\n",
        "#IR    p=0.5   Tv=0.5  T0=0.5\n",
        "k = 0\n",
        "x_degree2 = []\n",
        "y_ls_nir2 = []\n",
        "while k <= 90:\n",
        "    ls = (1 / np.pi) * 0.5 * 0.5 * (E_delta_landa(10.6e-6, 11.19e-6, 5788) * 0.5 * np.cos(np.deg2rad(k)) * (0.879e-6 - 0.85e-6) + Gcd)\n",
        "    x_degree2.extend([k])\n",
        "    y_ls_nir2.extend([ls])\n",
        "    k = k + 1"
      ],
      "metadata": {
        "id": "jochDzbm2ybR"
      },
      "execution_count": 6,
      "outputs": []
    },
    {
      "cell_type": "code",
      "source": [
        "plt.subplot(231)\n",
        "plt.plot(x_degree, y_ls_nir)\n",
        "plt.title(\"Band5(NIR)>0.85 to 0.879\", pad=20)\n",
        "plt.xlabel(\"teta\")\n",
        "plt.ylabel(\"Ls\")\n",
        "\n",
        "\n",
        "plt.subplot(233)\n",
        "plt.plot(x_degree1, y_ls_nir1)\n",
        "plt.title(\"Band6(SWIR)>1.566 to 1.651\", pad=20)\n",
        "plt.xlabel(\"teta\")\n",
        "plt.ylabel(\"Ls\")\n",
        "\n",
        "plt.subplot(235)\n",
        "plt.plot(x_degree2, y_ls_nir2)\n",
        "plt.title(\"Band10(IR)>10.6 to 11.19\", pad=20)\n",
        "plt.xlabel(\"teta\")\n",
        "plt.ylabel(\"Ls\")\n",
        "\n",
        "plt.subplots_adjust(left=0.1,\n",
        "                    bottom=0.1,\n",
        "                    right=0.9,\n",
        "                    top=0.9,\n",
        "                    wspace=0.1,\n",
        "                    hspace=0.8)\n",
        "plt.show()"
      ],
      "metadata": {
        "colab": {
          "base_uri": "https://localhost:8080/",
          "height": 322
        },
        "id": "VRRW_Pcc3H2u",
        "outputId": "9e7c681e-148e-4e5a-dd1a-fddb1f27b1a1"
      },
      "execution_count": 17,
      "outputs": [
        {
          "output_type": "display_data",
          "data": {
            "text/plain": [
              "<Figure size 432x288 with 3 Axes>"
            ],
            "image/png": "[encoded data removed]"
          },
          "metadata": {
            "needs_background": "light"
          }
        }
      ]
    },
    {
      "cell_type": "code",
      "source": [
        "#Ls and T0\n",
        "#NIR    p=0.5   Tv=0.5  teta=45\n",
        "k = 0\n",
        "x_degree = []\n",
        "y_ls_nir = []\n",
        "while k <= 1:\n",
        "    ls = (1 / np.pi) * 0.5 * 0.5 * (E_delta_landa(0.85e-6, 0.879e-6, 5788) * k * np.cos(np.deg2rad(45)) * (0.879e-6 - 0.85e-6) + Gcd)\n",
        "    x_degree.extend([k])\n",
        "    y_ls_nir.extend([ls])\n",
        "    k = k + 0.1\n",
        "\n",
        "#SWIR    p=0.5   Tv=0.5  T0=0.5\n",
        "k = 0\n",
        "x_degree1 = []\n",
        "y_ls_nir1 = []\n",
        "while k <= 1:\n",
        "    ls = (1 / np.pi) * 0.5 * 0.5 * (E_delta_landa(1.566e-6, 1.651e-6, 5788) * k * np.cos(np.deg2rad(45)) * (0.879e-6 - 0.85e-6) + Gcd)\n",
        "    x_degree1.extend([k])\n",
        "    y_ls_nir1.extend([ls])\n",
        "    k = k + 0.1\n",
        "\n",
        "#IR    p=0.5   Tv=0.5  T0=0.5\n",
        "k = 0\n",
        "x_degree2 = []\n",
        "y_ls_nir2 = []\n",
        "while k <= 1:\n",
        "    ls = (1 / np.pi) * 0.5 * 0.5 * (E_delta_landa(10.6e-6, 11.19e-6, 5788) * k * np.cos(np.deg2rad(45)) * (0.879e-6 - 0.85e-6) + Gcd)\n",
        "    x_degree2.extend([k])\n",
        "    y_ls_nir2.extend([ls])\n",
        "    k = k + 0.1"
      ],
      "metadata": {
        "id": "ea8I1hnJ5p6p"
      },
      "execution_count": 18,
      "outputs": []
    },
    {
      "cell_type": "code",
      "source": [
        "plt.subplot(231)\n",
        "plt.plot(x_degree, y_ls_nir)\n",
        "plt.title(\"Band5(NIR)>0.85 to 0.879\", pad=20)\n",
        "plt.xlabel(\"T0\")\n",
        "plt.ylabel(\"Ls\")\n",
        "\n",
        "\n",
        "plt.subplot(233)\n",
        "plt.plot(x_degree1, y_ls_nir1)\n",
        "plt.title(\"Band6(SWIR)>1.566 to 1.651\", pad=20)\n",
        "plt.xlabel(\"T0\")\n",
        "plt.ylabel(\"Ls\")\n",
        "\n",
        "plt.subplot(235)\n",
        "plt.plot(x_degree2, y_ls_nir2)\n",
        "plt.title(\"Band10(IR)>10.6 to 11.19\", pad=20)\n",
        "plt.xlabel(\"T0\")\n",
        "plt.ylabel(\"Ls\")\n",
        "\n",
        "plt.subplots_adjust(left=0.1,\n",
        "                    bottom=0.1,\n",
        "                    right=0.9,\n",
        "                    top=0.9,\n",
        "                    wspace=0.1,\n",
        "                    hspace=0.8)\n",
        "plt.show()"
      ],
      "metadata": {
        "colab": {
          "base_uri": "https://localhost:8080/",
          "height": 322
        },
        "id": "BBRx3Wx8524Y",
        "outputId": "3b390c98-499a-491a-8840-0035b0346894"
      },
      "execution_count": 19,
      "outputs": [
        {
          "output_type": "display_data",
          "data": {
            "text/plain": [
              "<Figure size 432x288 with 3 Axes>"
            ],
            "image/png": "[encoded data removed]"
          },
          "metadata": {
            "needs_background": "light"
          }
        }
      ]
    },
    {
      "cell_type": "code",
      "source": [
        "#Ls and P\n",
        "#NIR    T0=0.5   Tv=0.5  teta=45\n",
        "k = 0\n",
        "x_degree = []\n",
        "y_ls_nir = []\n",
        "while k <= 1:\n",
        "    ls = (1 / np.pi) * k * 0.5 * (E_delta_landa(0.85e-6, 0.879e-6, 5788) * 0.5 * np.cos(np.deg2rad(45)) * (0.879e-6 - 0.85e-6) + Gcd)\n",
        "    x_degree.extend([k])\n",
        "    y_ls_nir.extend([ls])\n",
        "    k = k + 0.1\n",
        "\n",
        "#SWIR    p=0.5   Tv=0.5  T0=0.5\n",
        "k = 0\n",
        "x_degree1 = []\n",
        "y_ls_nir1 = []\n",
        "while k <= 1:\n",
        "    ls = (1 / np.pi) * k * 0.5 * (E_delta_landa(1.566e-6, 1.651e-6, 5788) * 0.5 * np.cos(np.deg2rad(45)) * (0.879e-6 - 0.85e-6) + Gcd)\n",
        "    x_degree1.extend([k])\n",
        "    y_ls_nir1.extend([ls])\n",
        "    k = k + 0.1\n",
        "\n",
        "#IR    p=0.5   Tv=0.5  T0=0.5\n",
        "k = 0\n",
        "x_degree2 = []\n",
        "y_ls_nir2 = []\n",
        "while k <= 1:\n",
        "    ls = (1 / np.pi) * k * 0.5 * (E_delta_landa(10.6e-6, 11.19e-6, 5788) * 0.5 * np.cos(np.deg2rad(45)) * (0.879e-6 - 0.85e-6) + Gcd)\n",
        "    x_degree2.extend([k])\n",
        "    y_ls_nir2.extend([ls])\n",
        "    k = k + 0.1"
      ],
      "metadata": {
        "id": "eAX0eW8T6G-3"
      },
      "execution_count": 20,
      "outputs": []
    },
    {
      "cell_type": "code",
      "source": [
        "plt.subplot(231)\n",
        "plt.plot(x_degree, y_ls_nir)\n",
        "plt.title(\"Band5(NIR)>0.85 to 0.879\", pad=20)\n",
        "plt.xlabel(\"P\")\n",
        "plt.ylabel(\"Ls\")\n",
        "\n",
        "\n",
        "plt.subplot(233)\n",
        "plt.plot(x_degree1, y_ls_nir1)\n",
        "plt.title(\"Band6(SWIR)>1.566 to 1.651\", pad=20)\n",
        "plt.xlabel(\"P\")\n",
        "plt.ylabel(\"Ls\")\n",
        "\n",
        "plt.subplot(235)\n",
        "plt.plot(x_degree2, y_ls_nir2)\n",
        "plt.title(\"Band10(IR)>10.6 to 11.19\", pad=20)\n",
        "plt.xlabel(\"P\")\n",
        "plt.ylabel(\"Ls\")\n",
        "\n",
        "plt.subplots_adjust(left=0.1,\n",
        "                    bottom=0.1,\n",
        "                    right=0.9,\n",
        "                    top=0.9,\n",
        "                    wspace=0.1,\n",
        "                    hspace=0.8)\n",
        "plt.show()"
      ],
      "metadata": {
        "colab": {
          "base_uri": "https://localhost:8080/",
          "height": 322
        },
        "id": "9_TejiPE6Ogv",
        "outputId": "45b19bdd-400a-4e9f-8033-340838e3281f"
      },
      "execution_count": 21,
      "outputs": [
        {
          "output_type": "display_data",
          "data": {
            "text/plain": [
              "<Figure size 432x288 with 3 Axes>"
            ],
            "image/png": "[encoded data removed]"
          },
          "metadata": {
            "needs_background": "light"
          }
        }
      ]
    }
  ]
}