{
  "nbformat": 4,
  "nbformat_minor": 0,
  "metadata": {
    "colab": {
      "provenance": [],
      "authorship_tag": "ABX9TyN1t5wkQ1bQMLjHlO0ERWX3",
      "include_colab_link": true
    },
    "kernelspec": {
      "name": "python3",
      "display_name": "Python 3"
    },
    "language_info": {
      "name": "python"
    }
  },
  "cells": [
    {
      "cell_type": "markdown",
      "metadata": {
        "id": "view-in-github",
        "colab_type": "text"
      },
      "source": [
        "<a href=\"https://colab.research.google.com/github/sajjad73hajizade/shirazU-learn/blob/main/home_work5_pattern(Covariance_Mean).ipynb\" target=\"_parent\"><img src=\"https://colab.research.google.com/assets/colab-badge.svg\" alt=\"Open In Colab\"/></a>"
      ]
    },
    {
      "cell_type": "code",
      "source": [
        "pip install rasterio"
      ],
      "metadata": {
        "id": "63OXKDEoCwai"
      },
      "execution_count": null,
      "outputs": []
    },
    {
      "cell_type": "code",
      "execution_count": null,
      "metadata": {
        "id": "cyiHi3kJCF6R"
      },
      "outputs": [],
      "source": [
        "import rasterio\n",
        "import numpy as np\n",
        "\n",
        "dataset_main = rasterio.open(\"tehran.tif\")"
      ]
    },
    {
      "cell_type": "code",
      "source": [
        "def cordinate(x, y):\n",
        "    a = 1\n",
        "    feature_vector = []\n",
        "    while a <= dataset_main.count:\n",
        "        band = dataset_main.read(a)\n",
        "        f = band[y][x]\n",
        "        feature_vector.extend([f])\n",
        "        a += 1\n",
        "    return feature_vector"
      ],
      "metadata": {
        "id": "D-5Tuv9XDdYu"
      },
      "execution_count": 6,
      "outputs": []
    },
    {
      "cell_type": "markdown",
      "source": [
        "a.\tExtract the feature vector in the following positions"
      ],
      "metadata": {
        "id": "Cl3tajWmEZnI"
      }
    },
    {
      "cell_type": "code",
      "source": [
        "print(cordinate(1468, 489))"
      ],
      "metadata": {
        "colab": {
          "base_uri": "https://localhost:8080/"
        },
        "id": "OWc499DeDiOl",
        "outputId": "ee1e9edb-8c27-4243-ea67-6b458f0ee40c"
      },
      "execution_count": 10,
      "outputs": [
        {
          "output_type": "stream",
          "name": "stdout",
          "text": [
            "[86, 77, 64, 152, 108, 173, 58]\n"
          ]
        }
      ]
    },
    {
      "cell_type": "code",
      "source": [
        "print(cordinate(508, 818))"
      ],
      "metadata": {
        "colab": {
          "base_uri": "https://localhost:8080/"
        },
        "id": "MvlbjUB2EGqU",
        "outputId": "6c7436af-c70b-4417-cab4-6345041f9b99"
      },
      "execution_count": 11,
      "outputs": [
        {
          "output_type": "stream",
          "name": "stdout",
          "text": [
            "[100, 94, 93, 124, 121, 182, 78]\n"
          ]
        }
      ]
    },
    {
      "cell_type": "code",
      "source": [
        "print(cordinate(1375, 907))"
      ],
      "metadata": {
        "colab": {
          "base_uri": "https://localhost:8080/"
        },
        "id": "_YnzKlotELnz",
        "outputId": "e47190a7-b24f-4aae-d964-f57a9862b765"
      },
      "execution_count": 12,
      "outputs": [
        {
          "output_type": "stream",
          "name": "stdout",
          "text": [
            "[149, 161, 211, 106, 193, 232, 170]\n"
          ]
        }
      ]
    },
    {
      "cell_type": "markdown",
      "source": [
        "b.\tEstimate the “Mean vector” "
      ],
      "metadata": {
        "id": "QJ6hmaizEf0y"
      }
    },
    {
      "cell_type": "code",
      "source": [
        "def Mean():\n",
        "    a1 = 1\n",
        "    mean = []\n",
        "    while a1 <= dataset_main.count:\n",
        "        band = dataset_main.read(a1)\n",
        "        f = np.mean(band)\n",
        "        mean.extend(['mean_band ' + str(a1) + ' = ' + str(f)])\n",
        "        a1 += 1\n",
        "    return mean\n",
        "\n",
        "print(Mean())"
      ],
      "metadata": {
        "colab": {
          "base_uri": "https://localhost:8080/"
        },
        "id": "7OdKKlLWElxd",
        "outputId": "54d35ca8-4c93-420d-c8d1-19ee36a16cc3"
      },
      "execution_count": 15,
      "outputs": [
        {
          "output_type": "stream",
          "name": "stdout",
          "text": [
            "[['mean_band 1 = \\n128.17615290196807'], ['mean_band 2 = \\n126.26071421634732'], ['mean_band 3 = \\n153.56937938987434'], ['mean_band 4 = \\n89.94934394907126'], ['mean_band 5 = \\n148.8858071884734'], ['mean_band 6 = \\n220.53636643033119'], ['mean_band 7 = \\n126.9299535720148']]\n"
          ]
        }
      ]
    },
    {
      "cell_type": "markdown",
      "source": [
        "c.\tEstimate the “Covariance Matrix” "
      ],
      "metadata": {
        "id": "xf2styLCGExz"
      }
    },
    {
      "cell_type": "code",
      "source": [
        "def Covariance(N):\n",
        "    covariance = []\n",
        "    band = dataset_main.read(N)\n",
        "    f = np.cov(band,  bias=False)\n",
        "    covariance.extend([f])\n",
        "    size2 = len(covariance[0])\n",
        "    Result = 'size = ' +  str(size2)+'\\nCovariance Matrix = \\n' + str(f)\n",
        "    return Result"
      ],
      "metadata": {
        "id": "76Z8TZsVGPLl"
      },
      "execution_count": 16,
      "outputs": []
    },
    {
      "cell_type": "code",
      "source": [
        "#band1\n",
        "print(Covariance(1))"
      ],
      "metadata": {
        "colab": {
          "base_uri": "https://localhost:8080/"
        },
        "id": "CDRkkLlBGhZb",
        "outputId": "861e1e59-c437-408c-c270-afd1fe27f2bc"
      },
      "execution_count": 17,
      "outputs": [
        {
          "output_type": "stream",
          "name": "stdout",
          "text": [
            "size = 1279\n",
            "Covariance Matrix = \n",
            "[[971.74512884 914.59986598 869.06891569 ...  45.0964663   47.16140076\n",
            "   42.42090831]\n",
            " [914.59986598 961.82562009 905.86723466 ...  49.74669029  49.68129035\n",
            "   46.81116566]\n",
            " [869.06891569 905.86723466 955.66729381 ...  43.51908299  46.15711425\n",
            "   42.02646083]\n",
            " ...\n",
            " [ 45.0964663   49.74669029  43.51908299 ... 206.07290287 189.48768645\n",
            "  171.87725233]\n",
            " [ 47.16140076  49.68129035  46.15711425 ... 189.48768645 213.08558293\n",
            "  194.03973551]\n",
            " [ 42.42090831  46.81116566  42.02646083 ... 171.87725233 194.03973551\n",
            "  219.66775289]]\n"
          ]
        }
      ]
    },
    {
      "cell_type": "code",
      "source": [
        "#band2\n",
        "print(Covariance(2))"
      ],
      "metadata": {
        "colab": {
          "base_uri": "https://localhost:8080/"
        },
        "id": "R0gdXxjhGuJU",
        "outputId": "3b7db923-a681-4b4b-f5b5-ed3056d0be7d"
      },
      "execution_count": 18,
      "outputs": [
        {
          "output_type": "stream",
          "name": "stdout",
          "text": [
            "size = 1279\n",
            "Covariance Matrix = \n",
            "[[1130.54212919 1061.22341527  982.56678075 ...   64.73030862\n",
            "    68.87753005   67.15399112]\n",
            " [1061.22341527 1134.79830496 1047.18051769 ...   68.49451665\n",
            "    71.95746086   72.90378816]\n",
            " [ 982.56678075 1047.18051769 1112.14591256 ...   60.31022352\n",
            "    66.17951716   65.50076814]\n",
            " ...\n",
            " [  64.73030862   68.49451665   60.31022352 ...  325.08658322\n",
            "   298.70225358  267.00127992]\n",
            " [  68.87753005   71.95746086   66.17951716 ...  298.70225358\n",
            "   330.68577197  300.67577448]\n",
            " [  67.15399112   72.90378816   65.50076814 ...  267.00127992\n",
            "   300.67577448  336.95571498]]\n"
          ]
        }
      ]
    },
    {
      "cell_type": "code",
      "source": [
        "#band3\n",
        "print(Covariance(3))"
      ],
      "metadata": {
        "colab": {
          "base_uri": "https://localhost:8080/"
        },
        "id": "8HLIR8iBG2Gb",
        "outputId": "96c6b99b-9c74-4d0f-ad31-9ad5046c79fb"
      },
      "execution_count": 19,
      "outputs": [
        {
          "output_type": "stream",
          "name": "stdout",
          "text": [
            "size = 1279\n",
            "Covariance Matrix = \n",
            "[[2030.6140085  1862.57953036 1666.09672599 ...   48.89328103\n",
            "    59.35617871   56.47773856]\n",
            " [1862.57953036 2027.79437261 1817.75894972 ...   57.8802601\n",
            "    67.53133649   71.70495348]\n",
            " [1666.09672599 1817.75894972 1964.71982284 ...   47.74810931\n",
            "    63.99675818   57.93861382]\n",
            " ...\n",
            " [  48.89328103   57.8802601    47.74810931 ...  718.6149561\n",
            "   643.72974604  555.16718747]\n",
            " [  59.35617871   67.53133649   63.99675818 ...  643.72974604\n",
            "   718.99317217  638.95613845]\n",
            " [  56.47773856   71.70495348   57.93861382 ...  555.16718747\n",
            "   638.95613845  728.30081448]]\n"
          ]
        }
      ]
    },
    {
      "cell_type": "code",
      "source": [
        "#band4\n",
        "print(Covariance(4))"
      ],
      "metadata": {
        "colab": {
          "base_uri": "https://localhost:8080/"
        },
        "id": "hQlVZZiDKc3e",
        "outputId": "bc2a2a6d-f71e-46a7-aad6-66336a474d03"
      },
      "execution_count": 87,
      "outputs": [
        {
          "output_type": "stream",
          "name": "stdout",
          "text": [
            "size = 1279\n",
            "Covariance Matrix = \n",
            "[[534.91351267 492.54987139 461.95931381 ...   8.50044603   8.03201633\n",
            "    2.92032342]\n",
            " [492.54987139 515.47662433 481.24324718 ...   8.88936791   8.71801666\n",
            "    6.65499212]\n",
            " [461.95931381 481.24324718 507.67502367 ...  10.85756355   9.48444011\n",
            "    9.25863496]\n",
            " ...\n",
            " [  8.50044603   8.88936791  10.85756355 ... 176.75326508 159.00999773\n",
            "  140.4838068 ]\n",
            " [  8.03201633   8.71801666   9.48444011 ... 159.00999773 174.14018851\n",
            "  157.25290475]\n",
            " [  2.92032342   6.65499212   9.25863496 ... 140.4838068  157.25290475\n",
            "  180.65915567]]\n"
          ]
        }
      ]
    },
    {
      "cell_type": "code",
      "source": [
        "#band5\n",
        "print(Covariance(5))"
      ],
      "metadata": {
        "colab": {
          "base_uri": "https://localhost:8080/"
        },
        "id": "1ykO8urvvQjF",
        "outputId": "6eaedfa4-194c-4341-9456-eb749f8cec63"
      },
      "execution_count": 61,
      "outputs": [
        {
          "output_type": "stream",
          "name": "stdout",
          "text": [
            "size = 1279\n",
            "Covariance Matrix = \n",
            "[[2052.36605443 1911.20101853 1788.55327249 ...  242.59470261\n",
            "   251.18732606  242.43525379]\n",
            " [1911.20101853 2097.90507972 1927.17776463 ...  257.31059857\n",
            "   262.75983157  249.41996831]\n",
            " [1788.55327249 1927.17776463 2073.24530165 ...  247.13858386\n",
            "   258.51369697  246.21525932]\n",
            " ...\n",
            " [ 242.59470261  257.31059857  247.13858386 ...  719.48179577\n",
            "   653.1902949   587.04321423]\n",
            " [ 251.18732606  262.75983157  258.51369697 ...  653.1902949\n",
            "   705.72455846  640.86428718]\n",
            " [ 242.43525379  249.41996831  246.21525932 ...  587.04321423\n",
            "   640.86428718  708.62385384]]\n"
          ]
        }
      ]
    },
    {
      "cell_type": "code",
      "source": [
        "#band6\n",
        "print(Covariance(6))"
      ],
      "metadata": {
        "colab": {
          "base_uri": "https://localhost:8080/"
        },
        "id": "p87CsgGEvdv4",
        "outputId": "c10401da-451e-4457-9b3c-69de3f4ff555"
      },
      "execution_count": 62,
      "outputs": [
        {
          "output_type": "stream",
          "name": "stdout",
          "text": [
            "size = 1279\n",
            "Covariance Matrix = \n",
            "[[2373.17762149 2373.17762149 2351.06059928 ... -101.72308769\n",
            "  -101.72308769  -99.4228073 ]\n",
            " [2373.17762149 2373.17762149 2351.06059928 ... -101.72308769\n",
            "  -101.72308769  -99.4228073 ]\n",
            " [2351.06059928 2351.06059928 2375.64834185 ... -104.60166124\n",
            "  -104.60166124 -101.85966954]\n",
            " ...\n",
            " [-101.72308769 -101.72308769 -104.60166124 ...  179.00627143\n",
            "   179.00627143  169.66415857]\n",
            " [-101.72308769 -101.72308769 -104.60166124 ...  179.00627143\n",
            "   179.00627143  169.66415857]\n",
            " [ -99.4228073   -99.4228073  -101.85966954 ...  169.66415857\n",
            "   169.66415857  183.56383992]]\n"
          ]
        }
      ]
    },
    {
      "cell_type": "code",
      "source": [
        "#band6\n",
        "print(Covariance(7))"
      ],
      "metadata": {
        "colab": {
          "base_uri": "https://localhost:8080/"
        },
        "id": "2gJTvcrIvigH",
        "outputId": "5ad1629d-00ed-44fa-f28d-679359ff7fae"
      },
      "execution_count": 64,
      "outputs": [
        {
          "output_type": "stream",
          "name": "stdout",
          "text": [
            "size = 1279\n",
            "Covariance Matrix = \n",
            "[[1988.01564914 1831.01752273 1671.69876703 ...  218.97563139\n",
            "   228.93743644  220.55221048]\n",
            " [1831.01752273 2013.86508784 1818.67128692 ...  232.43322186\n",
            "   234.77991961  227.11349459]\n",
            " [1671.69876703 1818.67128692 1978.25557616 ...  215.70512368\n",
            "   228.32172763  218.79223815]\n",
            " ...\n",
            " [ 218.97563139  232.43322186  215.70512368 ...  665.94322197\n",
            "   604.13638957  547.2050508 ]\n",
            " [ 228.93743644  234.77991961  228.32172763 ...  604.13638957\n",
            "   667.39092319  609.58576333]\n",
            " [ 220.55221048  227.11349459  218.79223815 ...  547.2050508\n",
            "   609.58576333  683.91681692]]\n"
          ]
        }
      ]
    },
    {
      "cell_type": "markdown",
      "source": [
        "`*programmer:sajjad hajizade*`"
      ],
      "metadata": {
        "id": "LCq2vZtq3WcJ"
      }
    }
  ]
}
