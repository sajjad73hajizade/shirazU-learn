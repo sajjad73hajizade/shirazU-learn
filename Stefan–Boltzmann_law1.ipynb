{
  "nbformat": 4,
  "nbformat_minor": 0,
  "metadata": {
    "colab": {
      "provenance": [],
      "authorship_tag": "ABX9TyNgdQYv9alvkrKIFsmDpf2y",
      "include_colab_link": true
    },
    "kernelspec": {
      "name": "python3",
      "display_name": "Python 3"
    },
    "language_info": {
      "name": "python"
    }
  },
  "cells": [
    {
      "cell_type": "markdown",
      "metadata": {
        "id": "view-in-github",
        "colab_type": "text"
      },
      "source": [
        "<a href=\"https://colab.research.google.com/github/sajjad73hajizade/shirazU-learn/blob/main/Stefan%E2%80%93Boltzmann_law1.ipynb\" target=\"_parent\"><img src=\"https://colab.research.google.com/assets/colab-badge.svg\" alt=\"Open In Colab\"/></a>"
      ]
    },
    {
      "cell_type": "code",
      "execution_count": null,
      "metadata": {
        "id": "O2WK4fMc4dXo"
      },
      "outputs": [],
      "source": [
        "import numpy as np\n",
        "\n",
        "n = 1000000\n",
        "a = float(input(\"Please insert first wavelength :\"))\n",
        "b = float(input(\"Please insert second wavelength :\"))\n",
        "temp = float(input(\"Please insert temperature :\"))\n",
        "\n",
        "h = 6.626*10**-34\n",
        "c = 3*10**8\n",
        "k = 1.38*10**-23\n",
        "\n",
        "def Integrate(n,a,b):\n",
        "    def f(w1):\n",
        "        a1 = 2.0 * h * c ** 2\n",
        "        b1 = h * c / (w1 * k * temp)\n",
        "        B_Landa = a1 / ((w1 ** 5) * (np.exp(b1) - 1.0))\n",
        "        return B_Landa\n",
        "    width = (b-a)/n\n",
        "    i = 0\n",
        "    val1 = 0\n",
        "    val2 = 0\n",
        "    Area = 0\n",
        "    while i < n:\n",
        "        val1 = (i*width) + width/2\n",
        "        val2 += f(val1)\n",
        "        i += 1\n",
        "\n",
        "    Area = val2 * width\n",
        "    return Area\n",
        "\n",
        "te = Integrate(n, a, b)\n",
        "print(\"total_Energy : \" + str(te))"
      ]
    }
  ]
}