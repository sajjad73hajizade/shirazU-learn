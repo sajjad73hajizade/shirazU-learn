{
  "nbformat": 4,
  "nbformat_minor": 0,
  "metadata": {
    "colab": {
      "provenance": [],
      "authorship_tag": "ABX9TyO469N1C0dr7xMM6x+sOZQR",
      "include_colab_link": true
    },
    "kernelspec": {
      "name": "python3",
      "display_name": "Python 3"
    },
    "language_info": {
      "name": "python"
    }
  },
  "cells": [
    {
      "cell_type": "markdown",
      "metadata": {
        "id": "view-in-github",
        "colab_type": "text"
      },
      "source": [
        "<a href=\"https://colab.research.google.com/github/sajjad73hajizade/shirazU-learn/blob/main/Stefan%E2%80%93Boltzmann_law2.ipynb\" target=\"_parent\"><img src=\"https://colab.research.google.com/assets/colab-badge.svg\" alt=\"Open In Colab\"/></a>"
      ]
    },
    {
      "cell_type": "code",
      "execution_count": null,
      "metadata": {
        "id": "rT5QLauR5RB7"
      },
      "outputs": [],
      "source": [
        "import numpy as np\n",
        "import scipy.integrate as spi\n",
        "\n",
        "temp = 5000\n",
        "\n",
        "h = 6.626*10**-34\n",
        "c = 3*10**8\n",
        "k = 1.38*10**-23\n",
        "\n",
        "a1 = 2.0 * h * c ** 2\n",
        "integrand = lambda x : a1 / ((x ** 5) * (np.exp(h * c / (x * k * temp)) - 1.0))\n",
        "a = 1e-9\n",
        "b = 5e-6\n",
        "result, error = spi.quad(integrand, a, b)\n",
        "print('Result is ', result, 'with error ', error)"
      ]
    }
  ]
}