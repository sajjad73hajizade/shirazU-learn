{
  "nbformat": 4,
  "nbformat_minor": 0,
  "metadata": {
    "colab": {
      "provenance": [],
      "authorship_tag": "ABX9TyPIFdFuuVj6sRYJfVz1Sb0Q",
      "include_colab_link": true
    },
    "kernelspec": {
      "name": "python3",
      "display_name": "Python 3"
    },
    "language_info": {
      "name": "python"
    }
  },
  "cells": [
    {
      "cell_type": "markdown",
      "metadata": {
        "id": "view-in-github",
        "colab_type": "text"
      },
      "source": [
        "<a href=\"https://colab.research.google.com/github/sajjad73hajizade/shirazU-learn/blob/main/Gc_TotalRadiation.ipynb\" target=\"_parent\"><img src=\"https://colab.research.google.com/assets/colab-badge.svg\" alt=\"Open In Colab\"/></a>"
      ]
    },
    {
      "cell_type": "code",
      "execution_count": 7,
      "metadata": {
        "colab": {
          "base_uri": "https://localhost:8080/"
        },
        "id": "Z3WCIKKXXF8s",
        "outputId": "99cce0b0-8856-4076-fa19-41af7385183a"
      },
      "outputs": [
        {
          "output_type": "stream",
          "name": "stdout",
          "text": [
            "Please insert climate type <Tropical / Mid latitude summer / Subarctic winter / mid latitude Winter> : T\n",
            "Total Radiation : -7285921.967566537\n"
          ]
        }
      ],
      "source": [
        "from pysolar.solar import *\n",
        "import datetime\n",
        "import numpy as np\n",
        "import math\n",
        "\n",
        "import pandas as pd\n",
        "\n",
        "#42.206,-71.382\n",
        "latitude = 27.1889399\n",
        "longitude = 56.337230\n",
        "Height = 1000\n",
        "date = datetime.datetime(2007, 11, 16, 17, 20, 0, 0, tzinfo=datetime.timezone.utc)\n",
        "day_of_year = date.timetuple().tm_yday\n",
        "\n",
        "altitude = get_altitude(latitude, longitude, date)\n",
        "if altitude >= 0:\n",
        "    Zenith_solar = 90 - get_altitude(latitude, longitude, date)\n",
        "else:\n",
        "    Zenith_solar = 90 + get_altitude(latitude, longitude, date)\n",
        "\n",
        "#print(\"delta = \" + str(delta) + \"\\nphi = \" + str(phi) + \"\\nomega = \" + str(omega) + \"\\nthetaZ = \" + str(z) + \"\\totherthetaZ = \" + str(z2))\n",
        "#Gc = (Tb+Td)*Gsc*(1+0.033.....)*cos(teta_z)\n",
        "\n",
        "a = 1\n",
        "r0 = 0\n",
        "r1 = 0\n",
        "rk = 0\n",
        "\n",
        "while a < 2:\n",
        "    C_T = input(\"Please insert climate type <Tropical / Mid latitude summer / Subarctic winter / mid latitude Winter> : \")\n",
        "\n",
        "    if C_T == 'T':\n",
        "        a = 3\n",
        "        r0 = 0.95\n",
        "        r1 = 0.98\n",
        "        rk = 1.02\n",
        "\n",
        "    elif C_T == 'M':\n",
        "        a = 3\n",
        "        r0 = 0.97\n",
        "        r1 = 0.99\n",
        "        rk = 1.02\n",
        "\n",
        "    elif C_T == 'S':\n",
        "        a = 3\n",
        "        r0 = 0.99\n",
        "        r1 = 0.99\n",
        "        rk = 1.01\n",
        "\n",
        "    elif C_T == 'W':\n",
        "        a = 3\n",
        "        r0 = 1.03\n",
        "        r1 = 1.01\n",
        "        rk = 1.00\n",
        "\n",
        "    else:\n",
        "        print(\"The entered value is not correct\\nPlease Try again\")\n",
        "        a = 1\n",
        "\n",
        "\n",
        "a0 = r0 * (0.4237 - 0.00821 * (6 - Height)**2)\n",
        "a1 = r1 * (0.5055 + 0.00595 * (6.5 - Height)**2)\n",
        "k = rk * (0.2711 + 0.01858 * (2.5 - Height)**2)\n",
        "b1 = np.cos(Zenith_solar)\n",
        "\n",
        "\n",
        "tb = a0 + a1 * np.exp(-k/b1)\n",
        "tb = np.float64(tb)\n",
        "\n",
        "Gon = 1367 * (1 + 0.033 * np.cos(360*day_of_year/365))\n",
        "Gcb = tb * Gon * np.cos(Zenith_solar)\n",
        "\n",
        "td = 0.271 - 0.294 * tb\n",
        "Gcd = td * Gon * np.cos(Zenith_solar)\n",
        "\n",
        "Gc = Gcb + Gcd\n",
        "print(\"Total Radiation : \" + str(Gc))"
      ]
    }
  ]
}
