{
  "nbformat": 4,
  "nbformat_minor": 0,
  "metadata": {
    "colab": {
      "provenance": [],
      "authorship_tag": "ABX9TyMsXr5BS5nOVst2aq71iisZ",
      "include_colab_link": true
    },
    "kernelspec": {
      "name": "python3",
      "display_name": "Python 3"
    },
    "language_info": {
      "name": "python"
    }
  },
  "cells": [
    {
      "cell_type": "markdown",
      "metadata": {
        "id": "view-in-github",
        "colab_type": "text"
      },
      "source": [
        "<a href=\"https://colab.research.google.com/github/sajjad73hajizade/shirazU-learn/blob/main/Calculate_Real_Temp_landsat7.ipynb\" target=\"_parent\"><img src=\"https://colab.research.google.com/assets/colab-badge.svg\" alt=\"Open In Colab\"/></a>"
      ]
    },
    {
      "cell_type": "code",
      "source": [
        "pip install rasterio"
      ],
      "metadata": {
        "id": "qzaaKnbiWUyI"
      },
      "execution_count": null,
      "outputs": []
    },
    {
      "cell_type": "code",
      "execution_count": 3,
      "metadata": {
        "id": "vTmNBD7WWHPn"
      },
      "outputs": [],
      "source": [
        "import rasterio\n",
        "import numpy as np\n",
        "from PIL import Image as im\n",
        "import matplotlib.pyplot as plt\n",
        "import xml.etree.ElementTree as et\n",
        "from tifffile import imsave"
      ]
    },
    {
      "cell_type": "code",
      "source": [
        "dataset_main = rasterio.open('tehran.tif')\n",
        "band3_red = dataset_main.read(3)\n",
        "band4_nir = dataset_main.read(4)\n",
        "band6_temp = dataset_main.read(6)\n",
        "\n",
        "Red = band3_red\n",
        "NearIR = band4_nir\n",
        "Surface_Temp = band6_temp"
      ],
      "metadata": {
        "id": "m4Mf_WrGWhIX"
      },
      "execution_count": null,
      "outputs": []
    },
    {
      "cell_type": "code",
      "source": [
        "ML = 0\n",
        "AL = 0\n",
        "tr = et.parse('LE07_L1TP_160041_20221215_20221216_02_RT_MTL.xml')\n",
        "root = tr.getroot()\n",
        "for Landsat_info in root.iter('RADIANCE_MULT_BAND_6_VCID_1'):\n",
        "    ML = float(Landsat_info.text)\n",
        "\n",
        "for Landsat_info in root.iter('RADIANCE_ADD_BAND_6_VCID_1'):\n",
        "    AL = float(Landsat_info.text)\n",
        "\n",
        "for Landsat_info in root.iter('K1_CONSTANT_BAND_6_VCID_1'):\n",
        "    K1 = float(Landsat_info.text)\n",
        "\n",
        "for Landsat_info in root.iter('K2_CONSTANT_BAND_6_VCID_1'):\n",
        "    K2 = float(Landsat_info.text)"
      ],
      "metadata": {
        "id": "IVBvTKnuXM_G"
      },
      "execution_count": 5,
      "outputs": []
    },
    {
      "cell_type": "code",
      "source": [
        "TOA = Surface_Temp * ML + AL\n",
        "BT = (K2 / (np.log(K1 / TOA) + 1)) -273.15\n",
        "BT = np.nan_to_num(BT)"
      ],
      "metadata": {
        "id": "4U3p-I0uXYG7"
      },
      "execution_count": null,
      "outputs": []
    },
    {
      "cell_type": "code",
      "source": [
        "#NDVI = (nir – red) / (nir + red)\n",
        "NDVI = (NearIR - Red) / (NearIR + Red)\n",
        "NDVI = np.nan_to_num(NDVI)\n",
        "\n",
        "numrows = len(NDVI)\n",
        "numcols = len(NDVI[0])"
      ],
      "metadata": {
        "id": "Ef2g2juWXpCO"
      },
      "execution_count": null,
      "outputs": []
    },
    {
      "cell_type": "code",
      "source": [
        "i = 0\n",
        "j = 0\n",
        "\n",
        "while i < numrows:\n",
        "    while j < numcols:\n",
        "        ndvi = NDVI[i][j]\n",
        "        if ndvi > 0.2 and ndvi < 0.5:\n",
        "            emisi = (0.004 * ((ndvi - 0.2)/(0.5 - 0.2))) + 0.9\n",
        "            BT[i][j] = BT[i][j] / emisi\n",
        "        elif ndvi > 0.5:\n",
        "            emisi = 0.99\n",
        "            BT[i][j] = BT[i][j] / emisi\n",
        "        elif ndvi < 0.2:\n",
        "            emisi = 0.97\n",
        "            BT[i][j] = BT[i][j] / emisi\n",
        "        j += 1\n",
        "    i += 1\n",
        "\n"
      ],
      "metadata": {
        "id": "WLhgUeDWX0Zx"
      },
      "execution_count": 8,
      "outputs": []
    },
    {
      "cell_type": "code",
      "source": [
        "print(BT)"
      ],
      "metadata": {
        "colab": {
          "base_uri": "https://localhost:8080/"
        },
        "id": "U7Bj8RW8X_zK",
        "outputId": "5a0e1112-4145-4324-9a94-7555843cc7cb"
      },
      "execution_count": 9,
      "outputs": [
        {
          "output_type": "stream",
          "name": "stdout",
          "text": [
            "[[  0.           0.           0.         ... -17.30502641 -17.88045516\n",
            "  -17.88045516]\n",
            " [  0.           0.           0.         ... -17.13197614 -17.70165061\n",
            "  -17.70165061]\n",
            " [  0.           0.           0.         ... -16.84856488 -15.72421649\n",
            "  -15.72421649]\n",
            " ...\n",
            " [  0.           0.36285885   0.36285885 ...  -9.00498041 -14.33905383\n",
            "  -14.33905383]\n",
            " [  0.           0.36285885   0.36285885 ...  -9.00498041 -14.33905383\n",
            "  -14.33905383]\n",
            " [  0.           0.59775403   0.59775403 ... -14.61432867 -17.70165061\n",
            "  -17.70165061]]\n"
          ]
        }
      ]
    }
  ]
}
