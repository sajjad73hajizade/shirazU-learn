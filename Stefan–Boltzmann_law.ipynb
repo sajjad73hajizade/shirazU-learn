{
  "nbformat": 4,
  "nbformat_minor": 0,
  "metadata": {
    "colab": {
      "provenance": [],
      "authorship_tag": "ABX9TyMggRSO2c41rhGvxGKc/lnN",
      "include_colab_link": true
    },
    "kernelspec": {
      "name": "python3",
      "display_name": "Python 3"
    },
    "language_info": {
      "name": "python"
    }
  },
  "cells": [
    {
      "cell_type": "markdown",
      "metadata": {
        "id": "view-in-github",
        "colab_type": "text"
      },
      "source": [
        "<a href=\"https://colab.research.google.com/github/sajjad73hajizade/shirazU-learn/blob/main/Stefan%E2%80%93Boltzmann_law.ipynb\" target=\"_parent\"><img src=\"https://colab.research.google.com/assets/colab-badge.svg\" alt=\"Open In Colab\"/></a>"
      ]
    },
    {
      "cell_type": "code",
      "execution_count": 11,
      "metadata": {
        "colab": {
          "base_uri": "https://localhost:8080/",
          "height": 359
        },
        "id": "E5xe0wJKxJsZ",
        "outputId": "72d88a3a-2e84-45df-a0e9-d042839a69a4"
      },
      "outputs": [
        {
          "output_type": "stream",
          "name": "stdout",
          "text": [
            "For temp 1200.0 Energy =  117296.17570819105\n",
            "For temp 1800.0 Energy =  593847.0462041722\n",
            "16.002755731997606\n",
            "16.0\n"
          ]
        },
        {
          "output_type": "display_data",
          "data": {
            "text/plain": [
              "<Figure size 432x288 with 1 Axes>"
            ],
            "image/png": "[encoded data removed]"
          },
          "metadata": {
            "needs_background": "light"
          }
        }
      ],
      "source": [
        "import matplotlib.pyplot as plt\n",
        "import numpy as np\n",
        "from scipy.integrate import quad\n",
        "\n",
        "h = 6.626e-34\n",
        "c = 2.9979e+8\n",
        "k = 1.38e-23\n",
        "temps=np.linspace(300,15000)\n",
        "\n",
        "def integrand(wav, T):\n",
        "    return (2.0*3.14*h*c**2)/ ( ((wav*1e3*1e-9)**5) * (np.exp(h*c/(wav*1e3*1e-9*k*T)) - 1.0) )*1e-6\n",
        "\n",
        "p = lambda T: quad(integrand, 0.1, 100, args=(T,))[0]\n",
        "\n",
        "powers = list(map(p, temps))\n",
        "print(\"For temp \" + str(temps[3]) + \" Energy =  \" + str(powers[3]))\n",
        "print(\"For temp \" + str(temps[5]) + \" Energy =  \" + str(powers[5]))\n",
        "print(powers[5] / powers[2])\n",
        "print((temps[5] / temps[2])**4)\n",
        "plt.plot(temps, powers)\n",
        "plt.xlabel(\"Temp\")\n",
        "plt.ylabel(\"Energy\")\n",
        "\n",
        "plt.show()"
      ]
    }
  ]
}