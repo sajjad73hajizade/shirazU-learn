{
  "nbformat": 4,
  "nbformat_minor": 0,
  "metadata": {
    "colab": {
      "provenance": [],
      "authorship_tag": "ABX9TyPZL2Rn9Hmi2ESP0Nt30tMg",
      "include_colab_link": true
    },
    "kernelspec": {
      "name": "python3",
      "display_name": "Python 3"
    },
    "language_info": {
      "name": "python"
    }
  },
  "cells": [
    {
      "cell_type": "markdown",
      "metadata": {
        "id": "view-in-github",
        "colab_type": "text"
      },
      "source": [
        "<a href=\"https://colab.research.google.com/github/sajjad73hajizade/shirazU-learn/blob/main/microwave_timeSeries.ipynb\" target=\"_parent\"><img src=\"https://colab.research.google.com/assets/colab-badge.svg\" alt=\"Open In Colab\"/></a>"
      ]
    },
    {
      "cell_type": "code",
      "execution_count": 1,
      "metadata": {
        "colab": {
          "base_uri": "https://localhost:8080/"
        },
        "id": "1jFar4z3MEvT",
        "outputId": "098a040d-7712-4b45-8c9f-29419eb3fc85"
      },
      "outputs": [
        {
          "output_type": "stream",
          "name": "stdout",
          "text": [
            "Mounted at /content/drive/\n"
          ]
        }
      ],
      "source": [
        "# Load the Drive helper and mount\n",
        "from google.colab import drive\n",
        "drive.mount('/content/drive/')"
      ]
    },
    {
      "cell_type": "code",
      "source": [
        "from osgeo import gdal\n",
        "import numpy as np"
      ],
      "metadata": {
        "id": "EbRwa8B1cDwT"
      },
      "execution_count": 2,
      "outputs": []
    },
    {
      "cell_type": "code",
      "source": [
        "# بارگیری تصاویر اینترفروگرام\n",
        "interferogram_1 = gdal.Open('drive/My Drive/ifg/20180103_20180304.tif', gdal.GA_ReadOnly)\n",
        "interferogram_2 = gdal.Open('drive/My Drive/ifg/20180304_20180409.tif', gdal.GA_ReadOnly)\n"
      ],
      "metadata": {
        "id": "5MIA34YTcPsy"
      },
      "execution_count": 3,
      "outputs": []
    },
    {
      "cell_type": "code",
      "source": [
        "\n",
        "image_path = 'drive/My Drive/ifg/20180103_20180304.tif'\n",
        "dataset = gdal.Open(image_path)\n",
        "band_number = 1\n",
        "band = dataset.GetRasterBand(band_number)\n",
        "image = band.ReadAsArray()\n",
        "pixel_row = 1000  # شماره ردیف پیکسل\n",
        "pixel_col = 500  # شماره ستون پیکسل\n",
        "\n",
        "pixel_value = band.ReadAsArray(pixel_row, pixel_col, 1, 1)[0, 0]\n",
        "print(pixel_value)"
      ],
      "metadata": {
        "colab": {
          "base_uri": "https://localhost:8080/"
        },
        "id": "qPoeZXkHcYF9",
        "outputId": "6288f372-7da8-40af-c764-a969b141a960"
      },
      "execution_count": 4,
      "outputs": [
        {
          "output_type": "stream",
          "name": "stdout",
          "text": [
            "1.5626302\n"
          ]
        }
      ]
    },
    {
      "cell_type": "code",
      "source": [
        "def get_phase(x, y, fileName):\n",
        "  image_path = 'drive/My Drive/ifg/' + fileName\n",
        "  dataset = gdal.Open(image_path)\n",
        "  band_number = 1\n",
        "  band = dataset.GetRasterBand(band_number)\n",
        "  image = band.ReadAsArray()\n",
        "  pixel_row = x  # شماره ردیف پیکسل\n",
        "  pixel_col = y  # شماره ستون پیکسل\n",
        "  pixel_value = band.ReadAsArray(pixel_row, pixel_col, 1, 1)[0, 0]\n",
        "  return pixel_value\n",
        "\n",
        "print(get_phase(900, 500, '20180103_20180304.tif'))"
      ],
      "metadata": {
        "colab": {
          "base_uri": "https://localhost:8080/"
        },
        "id": "pkA7j2JiYvV8",
        "outputId": "0fded87c-be8a-4b37-c9ab-43f3999808b0"
      },
      "execution_count": 5,
      "outputs": [
        {
          "output_type": "stream",
          "name": "stdout",
          "text": [
            "-2.328536\n"
          ]
        }
      ]
    },
    {
      "cell_type": "code",
      "source": [
        "import os\n",
        "\n",
        "path = \"drive/My Drive/ifg\"\n",
        "dir_list = os.listdir(path)\n",
        "\n",
        "dir_list.sort()\n",
        "# prints all files\n",
        "# print(dir_list)\n",
        "\n",
        "# تبدیل آرایه به رشته با استفاده از تابع join()\n",
        "string = \",\".join(dir_list)\n",
        "\n",
        "# جدا کردن رشته با استفاده از تابع split()\n",
        "result = string.split(\"_\")\n",
        "\n",
        "# نمایش لیست جدا شده\n",
        "# print(result)\n",
        "\n",
        "# تبدیل آرایه به رشته با استفاده از تابع join()\n",
        "string = \",\".join(result)\n",
        "\n",
        "result2 = string.replace(\".tif\", \"\")\n",
        "result3 = result2.split(\",\")\n",
        "print((result3))\n",
        "\n",
        "unique_list = list(set(result3))\n",
        "unique_list.sort()\n",
        "print(len(unique_list))\n"
      ],
      "metadata": {
        "colab": {
          "base_uri": "https://localhost:8080/"
        },
        "id": "AJ63D2Gra2KV",
        "outputId": "ece51a96-daa8-43e6-e9af-b2d1f11ef23d"
      },
      "execution_count": 6,
      "outputs": [
        {
          "output_type": "stream",
          "name": "stdout",
          "text": [
            "['20180103', '20180304', '20180103', '20180409', '20180304', '20180409', '20180304', '20180503', '20180304', '20180527', '20180409', '20180503', '20180409', '20180527', '20180409', '20180620', '20180409', '20180714', '20180503', '20180527', '20180503', '20180620', '20180503', '20180714', '20180503', '20180819', '20180527', '20180620', '20180527', '20180714', '20180527', '20180819', '20180620', '20180714', '20180620', '20180819', '20180620', '20180924', '20180714', '20180819', '20180714', '20180924', '20180714', '20181018', '20180819', '20180924', '20180819', '20181018', '20180819', '20181123', '20180924', '20181018', '20180924', '20181217', '20181018', '20181123', '20181018', '20181217', '20181018', '20190122', '20181123', '20190122', '20181123', '20190227', '20181223', '20190227', '20190122', '20190227', '20190122', '20190323', '20190227', '20190323']\n",
            "16\n"
          ]
        }
      ]
    },
    {
      "cell_type": "code",
      "source": [
        "phase_list = []\n",
        "i = 0\n",
        "x_pos = 900\n",
        "y_pos = 400\n",
        "while i < len(dir_list):\n",
        "  ph = get_phase(x_pos, y_pos, dir_list[i])\n",
        "  phase_list.extend([ph])\n",
        "  i += 1\n",
        "\n",
        "print(phase_list)\n",
        "\n",
        "phase_list = np.array(phase_list).reshape(36, 1)\n",
        "\n"
      ],
      "metadata": {
        "colab": {
          "base_uri": "https://localhost:8080/"
        },
        "id": "Kl0m-rvve2dp",
        "outputId": "57f55d6e-7c3a-4857-8d8c-5ac9c082336a"
      },
      "execution_count": 7,
      "outputs": [
        {
          "output_type": "stream",
          "name": "stdout",
          "text": [
            "[-3.1462982, -3.1462982, -0.69544554, -4.925907, -2.2645922, -4.459519, 4.434911, 9.253645, 8.946032, 2.6410003, 7.302648, 6.206236, 8.788025, 4.8065815, 3.9684434, 6.582958, -0.12507969, -3.8025243, -9.338854, -2.7380755, -8.002818, -9.755033, -10.880747, -6.219679, -4.0784554, -1.4534967, 8.434757, 2.216751, 3.7015111, 7.1748724, 4.7330475, -4.2602363, -5.8792195, -3.1536908, -19.519028, -17.01838]\n"
          ]
        }
      ]
    },
    {
      "cell_type": "code",
      "source": [
        "# del dir_list[33]\n",
        "# del phase_list[33]"
      ],
      "metadata": {
        "id": "IBY7WFdC6SMk"
      },
      "execution_count": null,
      "outputs": []
    },
    {
      "cell_type": "markdown",
      "source": [
        "\tp1-p2\n",
        "\tp1-p3\n",
        " \tp2-p3\n",
        " \tp2-p4\n",
        " \tp2-p5\n",
        " \tp3-p4\n",
        " \tp3-p5\n",
        " \tp3-p6\n",
        " \tp3-p7\n",
        " \tp4-p5\n",
        " \tp4-p6\n",
        " \tp4-p7\n",
        " \tp4-p8\n",
        " \tp5-p6\n",
        " \tp5-p7\n",
        " \tp5-p8\n",
        " \tp6-p7\n",
        " \tp6-p8\n",
        " \tp6-p9\n",
        " \tp7-p8\n",
        " \tp7-p9\n",
        "\tp7-p10\n",
        " \tp8-p9\n",
        " \tp8-p10\n",
        " \tp8-p11\n",
        " \tp9-p10\n",
        " \tp9-p12\n",
        " \tp10-p11\n",
        "\tp10-p12\n",
        " \tp10-p13\n",
        " \tp11-p13\n",
        " \tp11-p14\n",
        "\tp15-p14\n",
        "\tp13-p14\n",
        " \tp13-p16\n",
        " \tp14-p16\n"
      ],
      "metadata": {
        "id": "G010bP5966On"
      }
    },
    {
      "cell_type": "code",
      "source": [
        "A_coeef = np.zeros((36, 16))\n",
        "A_coeef[0][0] = 0\n",
        "A_coeef[0][1] = -1\n",
        "\n",
        "# p1-p3\n",
        "A_coeef[1][0] = 0\n",
        "A_coeef[1][2] = -1\n",
        "#  p2-p3\n",
        "A_coeef[2][1] = 1\n",
        "A_coeef[2][2] = -1\n",
        "#  p2-p4\n",
        "A_coeef[3][1] = 1\n",
        "A_coeef[3][3] = -1\n",
        "#  p2-p5\n",
        "A_coeef[4][1] = 1\n",
        "A_coeef[4][4] = -1\n",
        "#  p3-p4\n",
        "A_coeef[5][2] = 1\n",
        "A_coeef[5][3] = -1\n",
        "#  p3-p5\n",
        "A_coeef[6][2] = 1\n",
        "A_coeef[6][4] = -1\n",
        "#  p3-p6\n",
        "A_coeef[7][2] = 1\n",
        "A_coeef[7][5] = -1\n",
        "#  p3-p7\n",
        "A_coeef[8][2] = 1\n",
        "A_coeef[8][6] = -1\n",
        "#  p4-p5\n",
        "A_coeef[9][3] = 1\n",
        "A_coeef[9][4] = -1\n",
        "#  p4-p6\n",
        "A_coeef[10][3] = 1\n",
        "A_coeef[10][5] = -1\n",
        "#  p4-p7\n",
        "A_coeef[11][3] = 1\n",
        "A_coeef[11][6] = -1\n",
        "#  p4-p8\n",
        "A_coeef[12][3] = 1\n",
        "A_coeef[12][7] = -1\n",
        "#  p5-p6\n",
        "A_coeef[13][4] = 1\n",
        "A_coeef[13][5] = -1\n",
        "#  p5-p7\n",
        "A_coeef[14][4] = 1\n",
        "A_coeef[14][6] = -1\n",
        "#  p5-p8\n",
        "A_coeef[15][4] = 1\n",
        "A_coeef[15][7] = -1\n",
        "#  p6-p7\n",
        "A_coeef[16][5] = 1\n",
        "A_coeef[16][6] = -1\n",
        "#  p6-p8\n",
        "A_coeef[17][5] = 1\n",
        "A_coeef[17][7] = -1\n",
        "#  p6-p9\n",
        "A_coeef[18][5] = 1\n",
        "A_coeef[18][8] = -1\n",
        "#  p7-p8\n",
        "A_coeef[19][6] = 1\n",
        "A_coeef[19][7] = -1\n",
        "#  p7-p9\n",
        "A_coeef[20][6] = 1\n",
        "A_coeef[20][8] = -1\n",
        "# p7-p10\n",
        "A_coeef[21][6] = 1\n",
        "A_coeef[21][9] = -1\n",
        "#  p8-p9\n",
        "A_coeef[22][7] = 1\n",
        "A_coeef[22][8] = -1\n",
        "#  p8-p10\n",
        "A_coeef[23][7] = 1\n",
        "A_coeef[23][9] = -1\n",
        "#  p8-p11\n",
        "A_coeef[24][7] = 1\n",
        "A_coeef[24][10] = -1\n",
        "#  p9-p10\n",
        "A_coeef[25][8] = 1\n",
        "A_coeef[25][9] = -1\n",
        "#  p9-p12\n",
        "A_coeef[26][8] = 1\n",
        "A_coeef[26][11] = -1\n",
        "#  p10-p11\n",
        "A_coeef[27][9] = 1\n",
        "A_coeef[27][10] = -1\n",
        "# p10-p12\n",
        "A_coeef[28][9] = 1\n",
        "A_coeef[28][11] = -1\n",
        "#  p10-p13\n",
        "A_coeef[29][9] = 1\n",
        "A_coeef[29][12] = -1\n",
        "#  p11-p13\n",
        "A_coeef[30][10] = 1\n",
        "A_coeef[30][12] = -1\n",
        "#  p11-p14\n",
        "A_coeef[31][10] = 1\n",
        "A_coeef[31][13] = -1\n",
        "# p15-p14\n",
        "A_coeef[32][14] = 1\n",
        "A_coeef[32][13] = -1\n",
        "# p13-p14\n",
        "A_coeef[33][12] = 1\n",
        "A_coeef[33][13] = -1\n",
        "#  p13-p16\n",
        "A_coeef[34][12] = 1\n",
        "A_coeef[34][15] = -1\n",
        "#  p14-p16\n",
        "A_coeef[35][13] = 1\n",
        "A_coeef[35][15] = -1\n",
        "\n",
        "print(A_coeef)"
      ],
      "metadata": {
        "colab": {
          "base_uri": "https://localhost:8080/"
        },
        "id": "N8RvHPOB4UQA",
        "outputId": "f0abaa60-31fe-42d8-ca96-77ef1822bb27"
      },
      "execution_count": 8,
      "outputs": [
        {
          "output_type": "stream",
          "name": "stdout",
          "text": [
            "[[ 0. -1.  0.  0.  0.  0.  0.  0.  0.  0.  0.  0.  0.  0.  0.  0.]\n",
            " [ 0.  0. -1.  0.  0.  0.  0.  0.  0.  0.  0.  0.  0.  0.  0.  0.]\n",
            " [ 0.  1. -1.  0.  0.  0.  0.  0.  0.  0.  0.  0.  0.  0.  0.  0.]\n",
            " [ 0.  1.  0. -1.  0.  0.  0.  0.  0.  0.  0.  0.  0.  0.  0.  0.]\n",
            " [ 0.  1.  0.  0. -1.  0.  0.  0.  0.  0.  0.  0.  0.  0.  0.  0.]\n",
            " [ 0.  0.  1. -1.  0.  0.  0.  0.  0.  0.  0.  0.  0.  0.  0.  0.]\n",
            " [ 0.  0.  1.  0. -1.  0.  0.  0.  0.  0.  0.  0.  0.  0.  0.  0.]\n",
            " [ 0.  0.  1.  0.  0. -1.  0.  0.  0.  0.  0.  0.  0.  0.  0.  0.]\n",
            " [ 0.  0.  1.  0.  0.  0. -1.  0.  0.  0.  0.  0.  0.  0.  0.  0.]\n",
            " [ 0.  0.  0.  1. -1.  0.  0.  0.  0.  0.  0.  0.  0.  0.  0.  0.]\n",
            " [ 0.  0.  0.  1.  0. -1.  0.  0.  0.  0.  0.  0.  0.  0.  0.  0.]\n",
            " [ 0.  0.  0.  1.  0.  0. -1.  0.  0.  0.  0.  0.  0.  0.  0.  0.]\n",
            " [ 0.  0.  0.  1.  0.  0.  0. -1.  0.  0.  0.  0.  0.  0.  0.  0.]\n",
            " [ 0.  0.  0.  0.  1. -1.  0.  0.  0.  0.  0.  0.  0.  0.  0.  0.]\n",
            " [ 0.  0.  0.  0.  1.  0. -1.  0.  0.  0.  0.  0.  0.  0.  0.  0.]\n",
            " [ 0.  0.  0.  0.  1.  0.  0. -1.  0.  0.  0.  0.  0.  0.  0.  0.]\n",
            " [ 0.  0.  0.  0.  0.  1. -1.  0.  0.  0.  0.  0.  0.  0.  0.  0.]\n",
            " [ 0.  0.  0.  0.  0.  1.  0. -1.  0.  0.  0.  0.  0.  0.  0.  0.]\n",
            " [ 0.  0.  0.  0.  0.  1.  0.  0. -1.  0.  0.  0.  0.  0.  0.  0.]\n",
            " [ 0.  0.  0.  0.  0.  0.  1. -1.  0.  0.  0.  0.  0.  0.  0.  0.]\n",
            " [ 0.  0.  0.  0.  0.  0.  1.  0. -1.  0.  0.  0.  0.  0.  0.  0.]\n",
            " [ 0.  0.  0.  0.  0.  0.  1.  0.  0. -1.  0.  0.  0.  0.  0.  0.]\n",
            " [ 0.  0.  0.  0.  0.  0.  0.  1. -1.  0.  0.  0.  0.  0.  0.  0.]\n",
            " [ 0.  0.  0.  0.  0.  0.  0.  1.  0. -1.  0.  0.  0.  0.  0.  0.]\n",
            " [ 0.  0.  0.  0.  0.  0.  0.  1.  0.  0. -1.  0.  0.  0.  0.  0.]\n",
            " [ 0.  0.  0.  0.  0.  0.  0.  0.  1. -1.  0.  0.  0.  0.  0.  0.]\n",
            " [ 0.  0.  0.  0.  0.  0.  0.  0.  1.  0.  0. -1.  0.  0.  0.  0.]\n",
            " [ 0.  0.  0.  0.  0.  0.  0.  0.  0.  1. -1.  0.  0.  0.  0.  0.]\n",
            " [ 0.  0.  0.  0.  0.  0.  0.  0.  0.  1.  0. -1.  0.  0.  0.  0.]\n",
            " [ 0.  0.  0.  0.  0.  0.  0.  0.  0.  1.  0.  0. -1.  0.  0.  0.]\n",
            " [ 0.  0.  0.  0.  0.  0.  0.  0.  0.  0.  1.  0. -1.  0.  0.  0.]\n",
            " [ 0.  0.  0.  0.  0.  0.  0.  0.  0.  0.  1.  0.  0. -1.  0.  0.]\n",
            " [ 0.  0.  0.  0.  0.  0.  0.  0.  0.  0.  0.  0.  0. -1.  1.  0.]\n",
            " [ 0.  0.  0.  0.  0.  0.  0.  0.  0.  0.  0.  0.  1. -1.  0.  0.]\n",
            " [ 0.  0.  0.  0.  0.  0.  0.  0.  0.  0.  0.  0.  1.  0.  0. -1.]\n",
            " [ 0.  0.  0.  0.  0.  0.  0.  0.  0.  0.  0.  0.  0.  1.  0. -1.]]\n"
          ]
        }
      ]
    },
    {
      "cell_type": "code",
      "source": [
        "# least sq\n",
        "coefficients, residuals, rank, singular_values = np.linalg.lstsq(A_coeef, phase_list, rcond=None)\n",
        "\n",
        "# نمایش ضرایب\n",
        "print(\"ضرایب:\")\n",
        "print(coefficients)\n",
        "print(len(coefficients))\n"
      ],
      "metadata": {
        "colab": {
          "base_uri": "https://localhost:8080/"
        },
        "id": "4tbhlIDWNVs8",
        "outputId": "015fe55d-fdd6-446d-d4e1-99e2c8aa4005"
      },
      "execution_count": 9,
      "outputs": [
        {
          "output_type": "stream",
          "name": "stdout",
          "text": [
            "ضرایب:\n",
            "[[ 0.        ]\n",
            " [ 1.9591359 ]\n",
            " [ 4.33346044]\n",
            " [ 5.81969855]\n",
            " [ 2.42303127]\n",
            " [-3.37202744]\n",
            " [-2.8458877 ]\n",
            " [-1.90285635]\n",
            " [ 6.5697215 ]\n",
            " [ 5.69931541]\n",
            " [ 2.39541844]\n",
            " [ 0.06638426]\n",
            " [-0.60823048]\n",
            " [ 4.05892962]\n",
            " [-1.82028991]\n",
            " [19.99405303]]\n",
            "16\n"
          ]
        }
      ]
    },
    {
      "cell_type": "code",
      "source": [
        "import matplotlib.pyplot as plt\n",
        "\n",
        "# ترسیم نمودار\n",
        "plt.plot(unique_list, coefficients)\n",
        "plt.grid(True)\n",
        "plt.title('Time series analysis for pixel to position : ' + str(x_pos) + ' * ' + str(y_pos))\n",
        "# کج کردن لیبل‌های محور x\n",
        "plt.xticks(rotation=90)\n",
        "# نمایش نمودار\n",
        "plt.show()\n"
      ],
      "metadata": {
        "colab": {
          "base_uri": "https://localhost:8080/",
          "height": 509
        },
        "id": "rKPFqtwaWjvV",
        "outputId": "4b31cd2c-18d3-4bc6-e15e-58be2e406f19"
      },
      "execution_count": 10,
      "outputs": [
        {
          "output_type": "display_data",
          "data": {
            "text/plain": [
              "<Figure size 640x480 with 1 Axes>"
            ],
            "image/png": "[encoded data removed]"
          },
          "metadata": {}
        }
      ]
    }
  ]
}
