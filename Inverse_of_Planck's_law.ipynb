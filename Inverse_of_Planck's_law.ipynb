{
  "nbformat": 4,
  "nbformat_minor": 0,
  "metadata": {
    "colab": {
      "provenance": [],
      "authorship_tag": "ABX9TyNfcOj6gApoLrf1NQ15p3jK",
      "include_colab_link": true
    },
    "kernelspec": {
      "name": "python3",
      "display_name": "Python 3"
    },
    "language_info": {
      "name": "python"
    }
  },
  "cells": [
    {
      "cell_type": "markdown",
      "metadata": {
        "id": "view-in-github",
        "colab_type": "text"
      },
      "source": [
        "<a href=\"https://colab.research.google.com/github/sajjad73hajizade/shirazU-learn/blob/main/Inverse_of_Planck's_law.ipynb\" target=\"_parent\"><img src=\"https://colab.research.google.com/assets/colab-badge.svg\" alt=\"Open In Colab\"/></a>"
      ]
    },
    {
      "cell_type": "code",
      "execution_count": null,
      "metadata": {
        "id": "e7yGVulMw2Xt"
      },
      "outputs": [],
      "source": [
        "import numpy as np\n",
        "\n",
        "landa = float(input(\"Please insert wavelength:\"))\n",
        "I_landa = float(input(\"Please insert I_landa:\"))\n",
        "h = 6.626*10**-34\n",
        "c = 3*10**8\n",
        "k = 1.38*10**-23\n",
        "\n",
        "c1 = 2*(h*c**2)*(landa**-5)\n",
        "c2 = (h*c)/(k*landa)\n",
        "\n",
        "c3 = np.log((c1/I_landa)+1)\n",
        "\n",
        "temp = c2/c3\n",
        "\n",
        "print(\"c1 = \"+str(c1))\n",
        "print(\"c2 = \"+str(c2))\n",
        "temp1 = round(temp,3)\n",
        "print(\"temp = \"+str(temp1)+\" Kelvin\")"
      ]
    }
  ]
}