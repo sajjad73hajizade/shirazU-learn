{
  "nbformat": 4,
  "nbformat_minor": 0,
  "metadata": {
    "colab": {
      "provenance": [],
      "authorship_tag": "ABX9TyOAH6nOQ7LhZD2vyhCW7hMP",
      "include_colab_link": true
    },
    "kernelspec": {
      "name": "python3",
      "display_name": "Python 3"
    },
    "language_info": {
      "name": "python"
    }
  },
  "cells": [
    {
      "cell_type": "markdown",
      "metadata": {
        "id": "view-in-github",
        "colab_type": "text"
      },
      "source": [
        "<a href=\"https://colab.research.google.com/github/sajjad73hajizade/shirazU-learn/blob/main/hyper_xgb_svr_polynomial.ipynb\" target=\"_parent\"><img src=\"https://colab.research.google.com/assets/colab-badge.svg\" alt=\"Open In Colab\"/></a>"
      ]
    },
    {
      "cell_type": "code",
      "execution_count": 1,
      "metadata": {
        "colab": {
          "base_uri": "https://localhost:8080/"
        },
        "id": "hrHTdXuuzMFL",
        "outputId": "694d5c79-5ce7-44ff-b07a-0c7a357025b8"
      },
      "outputs": [
        {
          "output_type": "stream",
          "name": "stdout",
          "text": [
            "Mounted at /content/drive/\n"
          ]
        }
      ],
      "source": [
        "# Load the Drive helper and mount\n",
        "from google.colab import drive\n",
        "drive.mount('/content/drive/')"
      ]
    },
    {
      "cell_type": "code",
      "source": [
        "import pandas as pd\n",
        "sentinel_df = pd.read_csv(\"drive/My Drive/hyperproject/pre/data-normal.csv\")\n",
        "ground_df = pd.read_csv(\"drive/My Drive/hyperproject/pre/label-normal.csv\")\n"
      ],
      "metadata": {
        "id": "DK8nRsPBzXk5"
      },
      "execution_count": 2,
      "outputs": []
    },
    {
      "cell_type": "code",
      "source": [
        "#XGBoost\n",
        "import pandas as pd\n",
        "from sklearn.model_selection import train_test_split, KFold\n",
        "import xgboost as xgb\n",
        "from sklearn.metrics import r2_score, mean_squared_error\n",
        "from sklearn.model_selection import GridSearchCV\n",
        "\n",
        "features_df = pd.read_csv(\"drive/My Drive/hyperproject/pre/data-normal.csv\")\n",
        "labels_df = pd.read_csv(\"drive/My Drive/hyperproject/pre/label-normal.csv\")\n",
        "\n",
        "# ...\n",
        "\n",
        "X_train, X_test, y_train, y_test = train_test_split(features_df, labels_df, test_size=0.2, random_state=42)\n",
        "\n",
        "param_grid = {\n",
        "    'n_estimators': [50, 100, 150],\n",
        "    'max_depth': [3, 5, 7],\n",
        "    'learning_rate': [0.01, 0.1, 0.2]\n",
        "}\n",
        "\n",
        "model = xgb.XGBRegressor()\n",
        "grid_search = GridSearchCV(model, param_grid, cv=5, scoring='neg_mean_squared_error')\n",
        "grid_search.fit(X_train, y_train)\n",
        "\n",
        "best_model = grid_search.best_estimator_\n",
        "best_params = grid_search.best_params_\n",
        "\n",
        "print(f'Best Hyperparameters: {best_params}')\n",
        "\n",
        "num_folds = 7\n",
        "kf = KFold(n_splits=num_folds, shuffle=True, random_state=42)\n",
        "r2_scores = []\n",
        "rmse_scores = []\n",
        "\n",
        "for train_index, val_index in kf.split(X_train):\n",
        "    X_train_fold, X_val_fold = X_train.iloc[train_index], X_train.iloc[val_index]\n",
        "    y_train_fold, y_val_fold = y_train.iloc[train_index], y_train.iloc[val_index]\n",
        "\n",
        "    best_model.fit(X_train_fold, y_train_fold)\n",
        "    y_pred = best_model.predict(X_val_fold)\n",
        "\n",
        "    r2_scores.append(r2_score(y_val_fold, y_pred))\n",
        "    rmse_scores.append(mean_squared_error(y_val_fold, y_pred, squared=False))\n",
        "\n",
        "avg_r2 = sum(r2_scores) / num_folds\n",
        "avg_rmse = sum(rmse_scores) / num_folds\n",
        "\n",
        "print(f'Average R2 Score: {avg_r2}')\n",
        "print(f'Average RMSE: {avg_rmse}')\n"
      ],
      "metadata": {
        "colab": {
          "base_uri": "https://localhost:8080/"
        },
        "id": "y391zqjizl6Q",
        "outputId": "926723e5-6444-4a59-dcfb-f78d57ef55af"
      },
      "execution_count": 10,
      "outputs": [
        {
          "output_type": "stream",
          "name": "stdout",
          "text": [
            "Best Hyperparameters: {'learning_rate': 0.2, 'max_depth': 3, 'n_estimators': 50}\n",
            "Average R2 Score: 0.6313382462146043\n",
            "Average RMSE: 0.005881580071049103\n"
          ]
        }
      ]
    },
    {
      "cell_type": "code",
      "source": [
        "# svr\n",
        "import pandas as pd\n",
        "from sklearn.model_selection import train_test_split, KFold\n",
        "from sklearn.svm import SVR\n",
        "from sklearn.metrics import r2_score, mean_squared_error\n",
        "from sklearn.model_selection import GridSearchCV\n",
        "\n",
        "features_df = pd.read_csv(\"drive/My Drive/hyperproject/pre/data-normal.csv\")\n",
        "labels_df = pd.read_csv(\"drive/My Drive/hyperproject/pre/label-normal.csv\")\n",
        "\n",
        "# ...\n",
        "\n",
        "X_train, X_test, y_train, y_test = train_test_split(features_df, labels_df, test_size=0.2, random_state=42)\n",
        "\n",
        "param_grid = {\n",
        "    'C': [0.1, 1, 10],\n",
        "    'epsilon': [0.01, 0.1, 0.2],\n",
        "    'kernel': ['linear', 'rbf']\n",
        "}\n",
        "\n",
        "model = SVR()\n",
        "grid_search = GridSearchCV(model, param_grid, cv=5, scoring='neg_mean_squared_error')\n",
        "grid_search.fit(X_train, y_train)\n",
        "\n",
        "best_model = grid_search.best_estimator_\n",
        "best_params = grid_search.best_params_\n",
        "\n",
        "print(f'Best Hyperparameters: {best_params}')\n",
        "\n",
        "num_folds = 7\n",
        "kf = KFold(n_splits=num_folds, shuffle=True, random_state=42)\n",
        "r2_scores = []\n",
        "rmse_scores = []\n",
        "\n",
        "for train_index, val_index in kf.split(X_train):\n",
        "    X_train_fold, X_val_fold = X_train.iloc[train_index], X_train.iloc[val_index]\n",
        "    y_train_fold, y_val_fold = y_train.iloc[train_index], y_train.iloc[val_index]\n",
        "\n",
        "    best_model.fit(X_train_fold, y_train_fold)\n",
        "    y_pred = best_model.predict(X_val_fold)\n",
        "\n",
        "    r2_scores.append(r2_score(y_val_fold, y_pred))\n",
        "    rmse_scores.append(mean_squared_error(y_val_fold, y_pred, squared=False))\n",
        "\n",
        "avg_r2 = sum(r2_scores) / num_folds\n",
        "avg_rmse = sum(rmse_scores) / num_folds\n",
        "\n",
        "print(f'Average R2 Score: {avg_r2}')\n",
        "print(f'Average RMSE: {avg_rmse}')\n"
      ],
      "metadata": {
        "id": "BChcgK6p3tOH"
      },
      "execution_count": null,
      "outputs": []
    },
    {
      "cell_type": "code",
      "source": [
        "print(f'Average R2 Score: {avg_r2}')\n",
        "print(f'Average RMSE: {avg_rmse}')\n",
        "print(f'Best Hyperparameters: {best_params}')\n"
      ],
      "metadata": {
        "colab": {
          "base_uri": "https://localhost:8080/"
        },
        "id": "QeRWckkE4GZ_",
        "outputId": "49f082d0-14e8-4ad8-e8cc-49233e4fb5eb"
      },
      "execution_count": 14,
      "outputs": [
        {
          "output_type": "stream",
          "name": "stdout",
          "text": [
            "Average R2 Score: 0.578127761344143\n",
            "Average RMSE: 0.006386868511384549\n",
            "Best Hyperparameters: {'C': 10, 'epsilon': 0.01, 'kernel': 'linear'}\n"
          ]
        }
      ]
    },
    {
      "cell_type": "code",
      "source": [
        "#polynomial\n",
        "import pandas as pd\n",
        "import numpy as np\n",
        "from sklearn.model_selection import train_test_split, KFold\n",
        "from sklearn.preprocessing import PolynomialFeatures\n",
        "from sklearn.linear_model import LinearRegression\n",
        "from sklearn.metrics import r2_score, mean_squared_error\n",
        "from sklearn.model_selection import GridSearchCV\n",
        "\n",
        "features_df = pd.read_csv(\"drive/My Drive/hyperproject/pre/data-normal.csv\")\n",
        "labels_df = pd.read_csv(\"drive/My Drive/hyperproject/pre/label-normal.csv\")\n",
        "\n",
        "# ...\n",
        "\n",
        "X_train, X_test, y_train, y_test = train_test_split(features_df, labels_df, test_size=0.2, random_state=42)\n",
        "\n",
        "degrees = [1, 2, 3, 4, 8]\n",
        "\n",
        "best_r2 = -float('inf')\n",
        "best_degree = None\n",
        "\n",
        "for degree in degrees:\n",
        "    polynomial_features = PolynomialFeatures(degree=degree)\n",
        "    X_train_poly = polynomial_features.fit_transform(X_train)\n",
        "\n",
        "    model = LinearRegression()\n",
        "    model.fit(X_train_poly, y_train)\n",
        "\n",
        "    X_test_poly = polynomial_features.transform(X_test)\n",
        "    y_pred = model.predict(X_test_poly)\n",
        "\n",
        "    r2 = r2_score(y_test, y_pred)\n",
        "\n",
        "    if r2 > best_r2:\n",
        "        best_r2 = r2\n",
        "        best_degree = degree\n",
        "\n",
        "print(f'Best Polynomial Degree: {best_degree}')\n",
        "\n",
        "num_folds = 7\n",
        "kf = KFold(n_splits=num_folds, shuffle=True, random_state=42)\n",
        "r2_scores = []\n",
        "rmse_scores = []\n",
        "\n",
        "for train_index, val_index in kf.split(X_train):\n",
        "    X_train_fold, X_val_fold = X_train.iloc[train_index], X_train.iloc[val_index]\n",
        "    y_train_fold, y_val_fold = y_train.iloc[train_index], y_train.iloc[val_index]\n",
        "\n",
        "    polynomial_features = PolynomialFeatures(degree=best_degree)\n",
        "    X_train_fold_poly = polynomial_features.fit_transform(X_train_fold)\n",
        "\n",
        "    model = LinearRegression()\n",
        "    model.fit(X_train_fold_poly, y_train_fold)\n",
        "\n",
        "    X_val_fold_poly = polynomial_features.transform(X_val_fold)\n",
        "    y_pred = model.predict(X_val_fold_poly)\n",
        "\n",
        "    r2_scores.append(r2_score(y_val_fold, y_pred))\n",
        "    rmse_scores.append(mean_squared_error(y_val_fold, y_pred, squared=False))\n",
        "\n",
        "avg_r2 = sum(r2_scores) / num_folds\n",
        "avg_rmse = sum(rmse_scores) / num_folds\n",
        "\n",
        "print(f'Average R2 Score: {avg_r2}')\n",
        "print(f'Average RMSE: {avg_rmse}')\n"
      ],
      "metadata": {
        "colab": {
          "base_uri": "https://localhost:8080/"
        },
        "id": "2wb_6tbo5zSV",
        "outputId": "c9938e03-61cd-4c6a-8868-1ee073c82fa4"
      },
      "execution_count": 2,
      "outputs": [
        {
          "output_type": "stream",
          "name": "stdout",
          "text": [
            "Best Polynomial Degree: 2\n",
            "Average R2 Score: 0.6948579989766017\n",
            "Average RMSE: 0.005168509383226226\n"
          ]
        }
      ]
    }
  ]
}
