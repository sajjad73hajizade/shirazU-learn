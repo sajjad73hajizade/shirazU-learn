{
  "nbformat": 4,
  "nbformat_minor": 0,
  "metadata": {
    "colab": {
      "provenance": [],
      "authorship_tag": "ABX9TyPDKTIRzcg+LTFH2gieY8qp",
      "include_colab_link": true
    },
    "kernelspec": {
      "name": "python3",
      "display_name": "Python 3"
    },
    "language_info": {
      "name": "python"
    }
  },
  "cells": [
    {
      "cell_type": "markdown",
      "metadata": {
        "id": "view-in-github",
        "colab_type": "text"
      },
      "source": [
        "<a href=\"https://colab.research.google.com/github/sajjad73hajizade/shirazU-learn/blob/main/Planks.ipynb\" target=\"_parent\"><img src=\"https://colab.research.google.com/assets/colab-badge.svg\" alt=\"Open In Colab\"/></a>"
      ]
    },
    {
      "cell_type": "code",
      "execution_count": 1,
      "metadata": {
        "id": "kMbDX0YeuNQD"
      },
      "outputs": [],
      "source": [
        "import numpy as np\n",
        "import matplotlib.pyplot as plt"
      ]
    },
    {
      "cell_type": "code",
      "source": [
        "v1 = float(input(\"Please insert first wavelength:\"))\n",
        "v2 = float(input(\"Please insert second wavelength:\"))\n",
        "n = float(input(\"Please insert n <step>:\"))\n",
        "t_n = float(input(\"Please insert number of plot:\"))\n",
        "\n",
        "i = 0\n",
        "te = []\n",
        "while i<t_n:\n",
        "    t = float(input(\"Please insert temperature_\" + str(i+1) + \" : \"))\n",
        "    te.extend([t])\n",
        "    i += 1"
      ],
      "metadata": {
        "colab": {
          "base_uri": "https://localhost:8080/"
        },
        "id": "NzPwTlpLuS2L",
        "outputId": "dae83c99-22ae-4780-d1fa-a01bde2298d3"
      },
      "execution_count": 4,
      "outputs": [
        {
          "name": "stdout",
          "output_type": "stream",
          "text": [
            "Please insert first wavelength:1e-9\n",
            "Please insert second wavelength:7e-6\n",
            "Please insert n <step>:1e-9\n",
            "Please insert number of plot:4\n",
            "Please insert temperature_1 : 7000\n",
            "Please insert temperature_2 : 5778\n",
            "Please insert temperature_3 : 3500\n",
            "Please insert temperature_4 : 2000\n"
          ]
        }
      ]
    },
    {
      "cell_type": "code",
      "source": [
        "h = 6.626*10**-34\n",
        "c = 3*10**8\n",
        "k = 1.38*10**-23\n",
        "\n",
        "listB = []\n",
        "listC = []\n",
        "\n",
        "\n",
        "def planks(temp,w1,w2):\n",
        "    while w1 < w2:\n",
        "        a = 2.0 * h * c ** 2\n",
        "        b = h * c / (w1 * k * temp)\n",
        "        B_Landa = a / ((w1 ** 5) * (np.exp(b) - 1.0))\n",
        "        listB.extend([B_Landa])\n",
        "        listC.extend([w1])\n",
        "        w1 = w1 + n\n",
        "\n",
        "    \"\"\"max_Bl = max(listB)\n",
        "    landa_pos = listB.index(max_Bl)\n",
        "    landa_max = listC[landa_pos]\"\"\"\n",
        "    plt.plot(listC, listB, label = \"temp:\"+str(temp))\n",
        "\n",
        "\n",
        "i = 0\n",
        "while i < t_n:\n",
        "    planks(te[i],v1,v2)\n",
        "    i += 1\n",
        "\n",
        "x = np.arange(v1,v2,0.5e-6)\n",
        "plt.xticks(x)\n",
        "plt.xticks(rotation=45, ha='right')\n",
        "plt.grid(axis=\"x\")\n",
        "plt.title(\"planks law\")\n",
        "plt.xlabel(\"wavelength\")\n",
        "plt.legend()\n",
        "plt.show()\n",
        "\n"
      ],
      "metadata": {
        "colab": {
          "base_uri": "https://localhost:8080/",
          "height": 348
        },
        "id": "6xlQVHzAuisR",
        "outputId": "bba9d569-8e07-4469-f303-38ca722d6443"
      },
      "execution_count": 6,
      "outputs": [
        {
          "output_type": "stream",
          "name": "stderr",
          "text": [
            "/usr/local/lib/python3.7/dist-packages/ipykernel_launcher.py:13: RuntimeWarning: overflow encountered in exp\n",
            "  del sys.path[0]\n"
          ]
        },
        {
          "output_type": "display_data",
          "data": {
            "text/plain": [
              "<Figure size 432x288 with 1 Axes>"
            ],
            "image/png": "[encoded data removed]"
          },
          "metadata": {
            "needs_background": "light"
          }
        }
      ]
    }
  ]
}